{
 "cells": [
  {
   "cell_type": "code",
   "execution_count": 80,
   "metadata": {
    "collapsed": true
   },
   "outputs": [],
   "source": [
    "import sqlite3\n",
    "conn = sqlite3.connect('/Users/oj/Documents/twitter_db/sentiment.db')\n",
    "cur = conn.cursor()"
   ]
  },
  {
   "cell_type": "code",
   "execution_count": 81,
   "metadata": {
    "collapsed": false
   },
   "outputs": [],
   "source": [
    "def procesed_text(cur, limit):\n",
    "    rows = cur.execute(\"\"\"\n",
    "        select processedUrl_UserName_HashTag from second_run limit {limit};\n",
    "        \"\"\".format(limit=limit))\n",
    "    for row in rows:\n",
    "        yield row[0]\n",
    "\n",
    "def sentiment_value(cur, limit):\n",
    "    rows = cur.execute(\"\"\"\n",
    "        select score from second_run limit {limit};\n",
    "        \"\"\".format(limit=limit))\n",
    "    for row in rows:\n",
    "        yield row[0]"
   ]
  },
  {
   "cell_type": "code",
   "execution_count": 82,
   "metadata": {
    "collapsed": true
   },
   "outputs": [],
   "source": [
    "from sklearn.pipeline import Pipeline\n",
    "text_clf = Pipeline([('vect', CountVectorizer()),\n",
    "                     ('tfidf', TfidfTransformer()),\n",
    "                     ('clf', MultinomialNB()),\n",
    "])"
   ]
  },
  {
   "cell_type": "code",
   "execution_count": 101,
   "metadata": {
    "collapsed": false
   },
   "outputs": [],
   "source": [
    "row_count = 25000\n",
    "data = list(procesed_text(cur, row_count))\n",
    "target = list(sentiment_value(cur, row_count))\n",
    "text_clf = text_clf.fit(data, target)"
   ]
  },
  {
   "cell_type": "code",
   "execution_count": 102,
   "metadata": {
    "collapsed": false
   },
   "outputs": [
    {
     "name": "stdout",
     "output_type": "stream",
     "text": [
      "23080\n"
     ]
    }
   ],
   "source": [
    "print(len([x for x in target if x == '0']))"
   ]
  },
  {
   "cell_type": "code",
   "execution_count": 104,
   "metadata": {
    "collapsed": false
   },
   "outputs": [
    {
     "name": "stdout",
     "output_type": "stream",
     "text": [
      "'God is love' => 1\n",
      "'OpenGL on the GPU is fast' => 1\n",
      "'i hate this' => 0\n",
      "'this is good' => 1\n",
      "'this was terrible' => 0\n"
     ]
    }
   ],
   "source": [
    "docs_new = ['God is love', 'OpenGL on the GPU is fast', 'i hate this', 'this is good', 'this was terrible']\n",
    "predicted = text_clf.predict(docs_new)\n",
    "\n",
    "for tweet, sentiment in zip(docs_new, predicted):\n",
    "    print('%r => %s' % (tweet, sentiment))"
   ]
  },
  {
   "cell_type": "code",
   "execution_count": 105,
   "metadata": {
    "collapsed": false
   },
   "outputs": [
    {
     "data": {
      "text/plain": [
       "array(['1'], \n",
       "      dtype='<U1')"
      ]
     },
     "execution_count": 105,
     "metadata": {},
     "output_type": "execute_result"
    }
   ],
   "source": [
    "import pickle\n",
    "s = pickle.dumps(text_clf)\n",
    "clf2 = pickle.loads(s)\n",
    "clf2.predict(['best day ever'])"
   ]
  },
  {
   "cell_type": "code",
   "execution_count": 107,
   "metadata": {
    "collapsed": false
   },
   "outputs": [
    {
     "data": {
      "text/plain": [
       "'/Users/oj/Documents/git/ga_data_science/app/data'"
      ]
     },
     "execution_count": 107,
     "metadata": {},
     "output_type": "execute_result"
    }
   ],
   "source": [
    "import os\n",
    "os.getcwd()"
   ]
  },
  {
   "cell_type": "code",
   "execution_count": 108,
   "metadata": {
    "collapsed": false
   },
   "outputs": [
    {
     "data": {
      "text/plain": [
       "['filename.pkl',\n",
       " 'filename.pkl_01.npy',\n",
       " 'filename.pkl_02.npy',\n",
       " 'filename.pkl_03.npy',\n",
       " 'filename.pkl_04.npy',\n",
       " 'filename.pkl_05.npy',\n",
       " 'filename.pkl_06.npy',\n",
       " 'filename.pkl_07.npy']"
      ]
     },
     "execution_count": 108,
     "metadata": {},
     "output_type": "execute_result"
    }
   ],
   "source": [
    "from sklearn.externals import joblib\n",
    "joblib.dump(text_clf, 'filename.pkl') "
   ]
  },
  {
   "cell_type": "code",
   "execution_count": 109,
   "metadata": {
    "collapsed": true
   },
   "outputs": [],
   "source": [
    "clf3 = joblib.load('filename.pkl') "
   ]
  },
  {
   "cell_type": "code",
   "execution_count": 110,
   "metadata": {
    "collapsed": false
   },
   "outputs": [
    {
     "data": {
      "text/plain": [
       "array(['0'], \n",
       "      dtype='<U1')"
      ]
     },
     "execution_count": 110,
     "metadata": {},
     "output_type": "execute_result"
    }
   ],
   "source": [
    "clf3.predict(['worst day ever'])"
   ]
  },
  {
   "cell_type": "code",
   "execution_count": null,
   "metadata": {
    "collapsed": true
   },
   "outputs": [],
   "source": []
  }
 ],
 "metadata": {
  "kernelspec": {
   "display_name": "Python 3",
   "language": "python",
   "name": "python3"
  },
  "language_info": {
   "codemirror_mode": {
    "name": "ipython",
    "version": 3
   },
   "file_extension": ".py",
   "mimetype": "text/x-python",
   "name": "python",
   "nbconvert_exporter": "python",
   "pygments_lexer": "ipython3",
   "version": "3.5.1"
  }
 },
 "nbformat": 4,
 "nbformat_minor": 0
}
